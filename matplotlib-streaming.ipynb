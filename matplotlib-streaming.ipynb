{
 "cells": [
  {
   "cell_type": "markdown",
   "metadata": {},
   "source": [
    "# Python Basics and Matplotlib"
   ]
  },
  {
   "cell_type": "markdown",
   "metadata": {},
   "source": [
    "This notebook will give a very brief introduction to python and its main plotting library matplotlib.  The goal is to give us the understanding needed to interface with sensors controlled with an arduino microcontroller and plot data from them in real-time\n",
    "\n",
    "This notebook will just focus on python and plotting\n",
    "\n",
    "A notebook is composed of cells that can have code, text, or other data.  To edit a cell, simply double-click on it.  To run a cell, click on it, and type `ctrl-enter`\n",
    "\n",
    "To get help, do `ctrl-m h`"
   ]
  },
  {
   "cell_type": "markdown",
   "metadata": {},
   "source": [
    "This following line is for compatibility with new versions of python"
   ]
  },
  {
   "cell_type": "code",
   "execution_count": 1,
   "metadata": {
    "collapsed": true
   },
   "outputs": [],
   "source": [
    "from __future__ import print_function"
   ]
  },
  {
   "cell_type": "markdown",
   "metadata": {},
   "source": [
    "## Python Basics"
   ]
  },
  {
   "cell_type": "markdown",
   "metadata": {},
   "source": [
    "We will be running our python code in this Jupyter notebook.  There are other ways to write and run python code, but notebooks are convenient since everything (code, text, and output) is contained in a single file"
   ]
  },
  {
   "cell_type": "markdown",
   "metadata": {},
   "source": [
    "We'll start by looking at variables in python.  A variable is simply a descriptive name that can represent data"
   ]
  },
  {
   "cell_type": "code",
   "execution_count": 2,
   "metadata": {
    "collapsed": true
   },
   "outputs": [],
   "source": [
    "a = 1\n",
    "b = 2.0\n",
    "c = \"hello\""
   ]
  },
  {
   "cell_type": "markdown",
   "metadata": {},
   "source": [
    "There are 3 variables, `a`, `b`, and `c`, and they are storing 3 different types of data that python can recognize, an integer (`1`), a floating point number (`2.0`), and a string, (`hello`)\n",
    "\n",
    "We can do all sorts of operations on these, including assigning new variables, math, and printing the output.  Play with the code in the next cells.  Remember, use `ctrl-enter` to execute"
   ]
  },
  {
   "cell_type": "code",
   "execution_count": 3,
   "metadata": {
    "collapsed": false
   },
   "outputs": [
    {
     "name": "stdout",
     "output_type": "stream",
     "text": [
      "1\n"
     ]
    }
   ],
   "source": [
    "print(a)"
   ]
  },
  {
   "cell_type": "code",
   "execution_count": 4,
   "metadata": {
    "collapsed": false
   },
   "outputs": [
    {
     "name": "stdout",
     "output_type": "stream",
     "text": [
      "4.0\n"
     ]
    }
   ],
   "source": [
    "d = 2.0*a + b\n",
    "print(d)"
   ]
  },
  {
   "cell_type": "code",
   "execution_count": 5,
   "metadata": {
    "collapsed": false
   },
   "outputs": [
    {
     "name": "stdout",
     "output_type": "stream",
     "text": [
      "hello, how are you\n"
     ]
    }
   ],
   "source": [
    "longer_string = c + \", how are you\"\n",
    "print(longer_string)"
   ]
  },
  {
   "cell_type": "markdown",
   "metadata": {},
   "source": [
    "## Modules and Namespaces\n",
    "\n",
    "python has a lot of functionality built-in.  Most of this is provided through modules -- these group similar functions together.  We access the functionality in a module by `import`-ing it.  When it is imported, all of that functionality is kept separate from that of other modules (to prevent clashing), by separating it into a _namespace_.  \n",
    "\n",
    "Let's look at the math module"
   ]
  },
  {
   "cell_type": "code",
   "execution_count": 7,
   "metadata": {
    "collapsed": false
   },
   "outputs": [
    {
     "name": "stdout",
     "output_type": "stream",
     "text": [
      "3.14159265359\n",
      "-2.44929359829e-16\n"
     ]
    }
   ],
   "source": [
    "import math\n",
    "\n",
    "print(math.pi)\n",
    "\n",
    "f = math.sin(2.0*math.pi)\n",
    "print(f)"
   ]
  },
  {
   "cell_type": "markdown",
   "metadata": {},
   "source": [
    "Note 2 things here.\n",
    "\n",
    "* We get the value of the mathematical constant $\\pi$, from `math` as `math.pi` -- this says \"give me `pi` from the `math` namespace\"\n",
    "* $\\sin(2\\pi)$ should be 0, but it is not (it is really small).  This is a limitation of how computers store floating point numbers (anything with a decimal point).  "
   ]
  },
  {
   "cell_type": "markdown",
   "metadata": {},
   "source": [
    "## Lists\n",
    "\n",
    "Python variables can be a lot more complex than simply numbers or strings.  A very useful construct is a _list_.  This is simply a list of stuff -- where the stuff can be anything that python understands.  \n",
    "\n",
    "We create a list using square brackets, `[` `]`, and separate items in a list with a `,`"
   ]
  },
  {
   "cell_type": "code",
   "execution_count": 8,
   "metadata": {
    "collapsed": false
   },
   "outputs": [
    {
     "name": "stdout",
     "output_type": "stream",
     "text": [
      "[1, 2.0, 3, 'four']\n"
     ]
    }
   ],
   "source": [
    "my_list = [1, 2.0, 3, \"four\"]\n",
    "print(my_list)"
   ]
  },
  {
   "cell_type": "markdown",
   "metadata": {},
   "source": [
    "We can access an item in a list via its index -- but we need to remember that python starts counting at `0`"
   ]
  },
  {
   "cell_type": "code",
   "execution_count": 10,
   "metadata": {
    "collapsed": false
   },
   "outputs": [
    {
     "name": "stdout",
     "output_type": "stream",
     "text": [
      "3\n"
     ]
    }
   ],
   "source": [
    "print(my_list[2])"
   ]
  },
  {
   "cell_type": "markdown",
   "metadata": {},
   "source": [
    "When we take data, we are going to start off with nothing, and we will add to our list as we accumulate data.  We can create an empty list simply as\n",
    "```\n",
    "data = []\n",
    "```\n",
    "\n",
    "Lists are _objects_ in python.  This means that there are _methods_ that know how to operate on lists directly and manipulate them.  A very useful method is `append()`.  Some important ideas:\n",
    "* methods take arguments, which are placed inside of the parantheses.\n",
    "* we use the `.` to access a method on a variable\n",
    "* we can always ask python for help using `help()` to learn what we can do"
   ]
  },
  {
   "cell_type": "code",
   "execution_count": 11,
   "metadata": {
    "collapsed": false
   },
   "outputs": [
    {
     "name": "stdout",
     "output_type": "stream",
     "text": [
      "[1, 2, 3]\n"
     ]
    }
   ],
   "source": [
    "data = []\n",
    "data.append(1)\n",
    "data.append(2)\n",
    "data.append(3)\n",
    "\n",
    "print(data)"
   ]
  },
  {
   "cell_type": "code",
   "execution_count": 14,
   "metadata": {
    "collapsed": false
   },
   "outputs": [
    {
     "name": "stdout",
     "output_type": "stream",
     "text": [
      "Help on built-in function append:\n",
      "\n",
      "append(...)\n",
      "    L.append(object) -- append object to end\n",
      "\n"
     ]
    }
   ],
   "source": [
    "help(data.append)"
   ]
  },
  {
   "cell_type": "markdown",
   "metadata": {},
   "source": [
    "## Loops\n",
    "\n",
    "Loops are an essential control structure in python -- the let us do repetitive tasks.  There are several ways to do loops.  We'll look at 2 here:\n",
    "\n",
    "* `for` loops that iterate over a set of values\n",
    "* `while` loops that iterate until some criteria is met\n",
    "\n",
    "python uses white space to denote the block of code that is part of the loop -- indenting is important!\n",
    "\n",
    "We'll also start using comments in the code -- these start with `#`.  Anything following this is ignored by python"
   ]
  },
  {
   "cell_type": "code",
   "execution_count": 16,
   "metadata": {
    "collapsed": false
   },
   "outputs": [
    {
     "name": "stdout",
     "output_type": "stream",
     "text": [
      "0\n",
      "1\n",
      "2\n",
      "3\n",
      "4\n",
      "5\n",
      "6\n",
      "7\n",
      "8\n",
      "9\n"
     ]
    }
   ],
   "source": [
    "# range is a function that returns all the integers (starting at 0) up to the argument you call it with\n",
    "for i in range(10):\n",
    "    print(i)"
   ]
  },
  {
   "cell_type": "code",
   "execution_count": 17,
   "metadata": {
    "collapsed": false
   },
   "outputs": [
    {
     "name": "stdout",
     "output_type": "stream",
     "text": [
      "0.0\n",
      "1.7\n",
      "3.4\n",
      "5.1\n",
      "6.8\n",
      "8.5\n"
     ]
    }
   ],
   "source": [
    "# we'll loop until a condition is met\n",
    "time = 0.0\n",
    "while (time < 10.0):\n",
    "    print(time)\n",
    "    time = time + 1.7\n"
   ]
  },
  {
   "cell_type": "markdown",
   "metadata": {},
   "source": [
    "## Plotting"
   ]
  },
  {
   "cell_type": "markdown",
   "metadata": {},
   "source": [
    "This next command is interpreted by the Jupyter notebook, and tells it to show all of the plots embedded in the notebook, instead of popping up a separate window to show the plots"
   ]
  },
  {
   "cell_type": "code",
   "execution_count": 13,
   "metadata": {
    "collapsed": true
   },
   "outputs": [],
   "source": [
    "%matplotlib inline"
   ]
  },
  {
   "cell_type": "markdown",
   "metadata": {},
   "source": [
    "Like `math`, matplotlib is a module which we need to import it.  Usually we will import it as follows -- here `as` gives a new name that we will refer to (as the namespace).  This is to save on typing, and is the standard convention when using matplotlib"
   ]
  },
  {
   "cell_type": "code",
   "execution_count": 20,
   "metadata": {
    "collapsed": true
   },
   "outputs": [],
   "source": [
    "import matplotlib.pyplot as plt"
   ]
  },
  {
   "cell_type": "code",
   "execution_count": 21,
   "metadata": {
    "collapsed": false
   },
   "outputs": [
    {
     "data": {
      "text/plain": [
       "[<matplotlib.lines.Line2D at 0x7f31b6820c90>]"
      ]
     },
     "execution_count": 21,
     "metadata": {},
     "output_type": "execute_result"
    },
    {
     "data": {
      "image/png": "[encoded data removed]",
      "text/plain": [
       "<matplotlib.figure.Figure at 0x7f31b68c3910>"
      ]
     },
     "metadata": {},
     "output_type": "display_data"
    }
   ],
   "source": [
    "# create x and y lists that we will plot \n",
    "x = []\n",
    "y = []\n",
    "\n",
    "# npts is the number of points we will plot\n",
    "npts = 100\n",
    "for n in range(npts):\n",
    "    x.append(n)\n",
    "    y.append(math.sin(2.0*math.pi*n/npts))\n",
    "    \n",
    "plt.plot(x, y)"
   ]
  },
  {
   "cell_type": "markdown",
   "metadata": {},
   "source": [
    "There are a lot of other ways to create the lists (or a different type called a NumPy array) that can be plotted.  We'll explore these as we need them.\n",
    "\n",
    "There are also ways to label the plot, give it a title, and lots of other types of plots."
   ]
  },
  {
   "cell_type": "markdown",
   "metadata": {},
   "source": [
    "## Updating a Plot as New Data Comes In\n",
    "\n",
    "The above plot is static -- we created all the data first and then plotted it.  When we interface with the sensors, we will want to have a plot update automatically each time we take new data.\n",
    "\n",
    "There are other libraries that can be used aside from matplotlib that can be used to do this -- we'll look at plot.ly in the future.\n",
    "\n",
    "To control matplotlib's plotting, we need a module from IPython -- this is what controls the rendering in the notebook itself"
   ]
  },
  {
   "cell_type": "code",
   "execution_count": 24,
   "metadata": {
    "collapsed": true
   },
   "outputs": [],
   "source": [
    "from IPython import display"
   ]
  },
  {
   "cell_type": "markdown",
   "metadata": {},
   "source": [
    "Now we'll create a simple plot that updates as we get data.  \n",
    "\n",
    "Our experiment will simply be taking a random number between [0, 1) -- this comes through the `random` module.\n",
    "\n",
    "We'll describe the code below with comments"
   ]
  },
  {
   "cell_type": "code",
   "execution_count": 26,
   "metadata": {
    "collapsed": false
   },
   "outputs": [
    {
     "data": {
      "image/png": "[encoded data removed]",
      "text/plain": [
       "<matplotlib.figure.Figure at 0x7f31b63c0d90>"
      ]
     },
     "metadata": {},
     "output_type": "display_data"
    }
   ],
   "source": [
    "import random\n",
    "import time\n",
    "\n",
    "# create two lists to hold the data.  t will be the time and y will hold the random number\n",
    "# associated with that time\n",
    "t = []\n",
    "y = []\n",
    "\n",
    "# initialize the time and how long we want to sleep between data points\n",
    "current_time = 0.0\n",
    "dt = 0.1\n",
    "\n",
    "# the maximum time we want to acquire data to\n",
    "stop_time = 10\n",
    "\n",
    "# we want our plot to adapt as we get the data -- window here is the length (in time) of \n",
    "# data we want to view, ending at the last data point\n",
    "window = 2.0\n",
    "\n",
    "# loop until we hit the stop time\n",
    "while (current_time < stop_time):\n",
    "    \n",
    "    # increment our time counter and store the time\n",
    "    current_time = current_time + dt    \n",
    "    t.append(current_time)\n",
    "    \n",
    "    # get a data point and store it\n",
    "    data_point = random.random()\n",
    "    y.append(data_point)\n",
    "    \n",
    "    # plot the data -- here we set the color of the line to red (\"r\")\n",
    "    plt.plot(t, y, color=\"r\")\n",
    "             \n",
    "    # we want to only show a segment of the data.  tmin is the minimum time and tmax is\n",
    "    # the maximum time \n",
    "    tmin = max(0, current_time - window)\n",
    "    tmax = tmin + window\n",
    "\n",
    "    # to tell matplotlib to use these new axis limits, we need to get an _axis object_, using\n",
    "    # the `gca()` function\n",
    "    ax = plt.gca()\n",
    "\n",
    "    # and we use the `set_xlim` method to update the limits of the axis\n",
    "    ax.set_xlim(tmin, tmax)\n",
    "\n",
    "    # these commands tell the notebook to show the updated figure -- `gcf()` gets the \"current figure\"\n",
    "    display.display(plt.gcf())\n",
    "    display.clear_output(wait=True)\n",
    "             \n",
    "    # finally, we wait for dt until getting the next data point -- this uses the sleep() function\n",
    "    # from the time module\n",
    "    time.sleep(dt)"
   ]
  },
  {
   "cell_type": "code",
   "execution_count": null,
   "metadata": {
    "collapsed": true
   },
   "outputs": [],
   "source": []
  },
  {
   "cell_type": "markdown",
   "metadata": {},
   "source": [
    "Notes for instructors:\n",
    "\n",
    "this method is based on stackoverflow\n",
    "\n",
    "http://stackoverflow.com/questions/21360361/how-to-dynamically-update-a-plot-in-a-loop-in-ipython-notebook-within-one-cell\n",
    "\n",
    "a potential problem: the drawing of the plot takes a lot of time, so we can't rely on dt being real physical time interval between samples.  We are better off by calling time explicitly"
   ]
  }
 ],
 "metadata": {
  "celltoolbar": "Raw Cell Format",
  "kernelspec": {
   "display_name": "Python 2",
   "language": "python",
   "name": "python2"
  },
  "language_info": {
   "codemirror_mode": {
    "name": "ipython",
    "version": 2
   },
   "file_extension": ".py",
   "mimetype": "text/x-python",
   "name": "python",
   "nbconvert_exporter": "python",
   "pygments_lexer": "ipython2",
   "version": "2.7.12"
  }
 },
 "nbformat": 4,
 "nbformat_minor": 1
}
