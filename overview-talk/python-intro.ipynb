{
 "cells": [
  {
   "cell_type": "markdown",
   "metadata": {
    "slideshow": {
     "slide_type": "slide"
    }
   },
   "source": [
    "# The Power of Python\n",
    "\n",
    "![logo](python-logo.png)"
   ]
  },
  {
   "cell_type": "code",
   "execution_count": 1,
   "metadata": {
    "collapsed": true,
    "slideshow": {
     "slide_type": "skip"
    }
   },
   "outputs": [],
   "source": [
    "from __future__ import print_function"
   ]
  },
  {
   "cell_type": "code",
   "execution_count": 2,
   "metadata": {
    "collapsed": false,
    "slideshow": {
     "slide_type": "skip"
    }
   },
   "outputs": [],
   "source": [
    "#from notebook.services.config import ConfigManager\n",
    "#cm = ConfigManager()\n",
    "#cm.update('livereveal', {\n",
    "#              'scroll': True,\n",
    "#})\n"
   ]
  },
  {
   "cell_type": "markdown",
   "metadata": {
    "slideshow": {
     "slide_type": "slide"
    }
   },
   "source": [
    "## Computers in Science\n",
    "\n",
    "* All types of scientific research require computation\n",
    "  * _observation / experimentation_ : data analysis / reduction, gathering data, ...\n",
    "  * _computation_ : simulation codes (e.g. solving a system of PDEs) and modeling\n",
    "  * _theory_ : computer algebra systems, Monte Carlo realizations, ..."
   ]
  },
  {
   "cell_type": "markdown",
   "metadata": {
    "slideshow": {
     "slide_type": "slide"
    }
   },
   "source": [
    "![wdmerger](wdmerger_08030_new.png)"
   ]
  },
  {
   "cell_type": "markdown",
   "metadata": {
    "slideshow": {
     "slide_type": "slide"
    }
   },
   "source": [
    "## Why Python?\n",
    "\n",
    "* very accessible\n",
    "* high-level language\n",
    "  * lots of data complex container classes are built into the language\n",
    "  * easy to write complex tasks as short functions\n",
    "* very readable\n",
    "* supports a wide range of programming paradigms\n",
    "  * object-oriented\n",
    "  * functional\n",
    "  * procedural\n",
    "* among the most popular languages (in terms of code development, job ads, stackoverflow questions)"
   ]
  },
  {
   "cell_type": "markdown",
   "metadata": {
    "slideshow": {
     "slide_type": "slide"
    }
   },
   "source": [
    "## Example"
   ]
  },
  {
   "cell_type": "code",
   "execution_count": 3,
   "metadata": {
    "collapsed": false
   },
   "outputs": [
    {
     "name": "stdout",
     "output_type": "stream",
     "text": [
      "Hello World\n"
     ]
    }
   ],
   "source": [
    "print(\"Hello World\")"
   ]
  },
  {
   "cell_type": "markdown",
   "metadata": {
    "slideshow": {
     "slide_type": "slide"
    }
   },
   "source": [
    "## More Complex Example"
   ]
  },
  {
   "cell_type": "code",
   "execution_count": 4,
   "metadata": {
    "collapsed": false
   },
   "outputs": [
    {
     "name": "stdout",
     "output_type": "stream",
     "text": [
      "tails\n",
      "heads\n",
      "tails\n",
      "tails\n",
      "tails\n"
     ]
    }
   ],
   "source": [
    "import random\n",
    "\n",
    "for n in range(5):\n",
    "    # random() returns a number in [0, 1)\n",
    "    a = random.random()\n",
    "\n",
    "    if a < 0.5:\n",
    "        print(\"heads\")\n",
    "    else:\n",
    "        print(\"tails\")"
   ]
  },
  {
   "cell_type": "markdown",
   "metadata": {
    "slideshow": {
     "slide_type": "slide"
    }
   },
   "source": [
    "## Object-oriented\n",
    "\n",
    "* Object-oriented programming is a natural way to group data and methods that operated on it\n",
    "  * a `class` describes the data-structure\n",
    "  * you work on objects -- _instances_ of the class\n",
    "  * makes it easy to pass around complex groups of related data\n",
    "  * you can query a python class to find out what it provides\n",
    "* In python, everything is an object"
   ]
  },
  {
   "cell_type": "code",
   "execution_count": 5,
   "metadata": {
    "collapsed": false,
    "slideshow": {
     "slide_type": "slide"
    }
   },
   "outputs": [
    {
     "data": {
      "text/plain": [
       "1019.3679918450559"
      ]
     },
     "execution_count": 5,
     "metadata": {},
     "output_type": "execute_result"
    }
   ],
   "source": [
    "import math\n",
    "\n",
    "class Projectile(object):\n",
    "    \"\"\"projectile launched at an angle theta (degrees) \n",
    "       from +x with a velocity v (SI units)\"\"\"\n",
    "    def __init__(self, theta, v, g=-9.81):\n",
    "        self.theta = theta\n",
    "        self.v = v\n",
    "        self.g = g\n",
    "        \n",
    "    def time_of_flight(self):\n",
    "        \"\"\"return the time in the air\"\"\"\n",
    "        v_y = self.v*math.sin(math.radians(self.theta))\n",
    "        return -2*v_y/self.g\n",
    "        \n",
    "    def range(self):\n",
    "        \"\"\"return the range (in x)\"\"\"\n",
    "        v_x = self.v*math.cos(math.radians(self.theta))\n",
    "        return v_x*self.time_of_flight()\n",
    "    \n",
    "p = Projectile(45, 100)\n",
    "p.range()"
   ]
  },
  {
   "cell_type": "code",
   "execution_count": 6,
   "metadata": {
    "collapsed": false,
    "slideshow": {
     "slide_type": "slide"
    }
   },
   "outputs": [
    {
     "name": "stdout",
     "output_type": "stream",
     "text": [
      "Help on class Projectile in module __main__:\n",
      "\n",
      "class Projectile(__builtin__.object)\n",
      " |  projectile launched at an angle theta (degrees) \n",
      " |  from +x with a velocity v (SI units)\n",
      " |  \n",
      " |  Methods defined here:\n",
      " |  \n",
      " |  __init__(self, theta, v, g=-9.81)\n",
      " |  \n",
      " |  range(self)\n",
      " |      return the range (in x)\n",
      " |  \n",
      " |  time_of_flight(self)\n",
      " |      return the time in the air\n",
      " |  \n",
      " |  ----------------------------------------------------------------------\n",
      " |  Data descriptors defined here:\n",
      " |  \n",
      " |  __dict__\n",
      " |      dictionary for instance variables (if defined)\n",
      " |  \n",
      " |  __weakref__\n",
      " |      list of weak references to the object (if defined)\n",
      "\n"
     ]
    }
   ],
   "source": [
    "help(Projectile)"
   ]
  },
  {
   "cell_type": "markdown",
   "metadata": {
    "slideshow": {
     "slide_type": "slide"
    }
   },
   "source": [
    "## What is Scientific Computing?\n",
    "\n",
    "* simulation and modeling\n",
    "* visualization\n",
    "* analysis / fitting (including machine learning)\n",
    "* prototyping new algorithms\n",
    "* _glue_ to build applications linking C, C++, and Fortran code together"
   ]
  },
  {
   "cell_type": "markdown",
   "metadata": {
    "slideshow": {
     "slide_type": "slide"
    }
   },
   "source": [
    "## Why _Python_ for Scientific Computing?\n",
    "\n",
    "* powerful multidimensional array class (`ndarray` from NumPy) is the basis of many libraries\n",
    "* large standard library\n",
    "* easy to interface with Fortran and C/C++\n",
    "\n",
    "Further, python and the scientific libraries are _Free_ (zero cost + open)"
   ]
  },
  {
   "cell_type": "markdown",
   "metadata": {
    "collapsed": true,
    "slideshow": {
     "slide_type": "slide"
    }
   },
   "source": [
    "## The Scientific Python \"Ecosystem\"\n",
    "\n",
    "![scipy](scipy.png)"
   ]
  },
  {
   "cell_type": "markdown",
   "metadata": {
    "collapsed": true,
    "slideshow": {
     "slide_type": "subslide"
    }
   },
   "source": [
    "## What About R, IDL, matlab, ...\n",
    "\n",
    "* One of python's strengths is that it is _Free_ (zero-cost and open)\n",
    "* python is more general purpose than these\n",
    "* Compared to R:\n",
    "  * both are _Free_\n",
    "  * R is a strong choice for data analysis -- that is its target\n",
    "    * python's stats packages are growing fast\n",
    "* Compared to IDL:\n",
    "  * IDL's language design is old, with OO features added later in a clumsy fashion\n",
    "  * IDL is expensive\n",
    "* Compared to matlab:\n",
    "  * matlab is expensive (although octave fill in for a lot of applications)\n",
    "  * excels at linear algebra, but doesn't have the high-level language constructs of python"
   ]
  },
  {
   "cell_type": "markdown",
   "metadata": {
    "collapsed": true,
    "slideshow": {
     "slide_type": "slide"
    }
   },
   "source": [
    "## Jupyter Notebooks\n",
    "\n",
    "* The _killer-app_ of python is the Jupyter (formerly ipython) notebook\n",
    "  * integrates plain text, LaTeX typesetting, code and output, plots, widgets, ..., in a web-based container\n",
    "  * easy to share\n",
    "  * allows for reproducible and archivable research work flows\n",
    "* This talk is a notebook"
   ]
  },
  {
   "cell_type": "markdown",
   "metadata": {
    "slideshow": {
     "slide_type": "slide"
    }
   },
   "source": [
    "![notebook](jupyter-example.png)"
   ]
  },
  {
   "cell_type": "markdown",
   "metadata": {
    "slideshow": {
     "slide_type": "slide"
    }
   },
   "source": [
    "## Some Examples\n",
    "\n",
    "Key things to keep in mind:\n",
    "* all of this functionality is provided by Free libraries\n",
    "* code is pretty concise\n",
    "* lots of help is available online\n",
    "* the python community is very _welcoming_"
   ]
  },
  {
   "cell_type": "markdown",
   "metadata": {
    "slideshow": {
     "slide_type": "slide"
    }
   },
   "source": [
    "## NumPy\n",
    "\n",
    "* NumPy provides a multidimensional array class\n",
    "* all elements are the same type, memory is allocated upon creation\n",
    "* power comes from array operations\n",
    "  * these are written in compiled language and run fast\n",
    "  * allows for near-C-like performance when you avoid loops (vectorized programming)\n",
    "  \n",
    "A large number of scientific applications require the use of arrays for storing data "
   ]
  },
  {
   "cell_type": "code",
   "execution_count": 7,
   "metadata": {
    "collapsed": false,
    "slideshow": {
     "slide_type": "slide"
    }
   },
   "outputs": [
    {
     "data": {
      "text/plain": [
       "array([[ 0,  1,  2,  3,  4],\n",
       "       [ 5,  6,  7,  8,  9],\n",
       "       [10, 11, 12, 13, 14]])"
      ]
     },
     "execution_count": 7,
     "metadata": {},
     "output_type": "execute_result"
    }
   ],
   "source": [
    "import numpy as np\n",
    "\n",
    "a = np.arange(15).reshape(3,5)\n",
    "a"
   ]
  },
  {
   "cell_type": "code",
   "execution_count": 8,
   "metadata": {
    "collapsed": false
   },
   "outputs": [
    {
     "data": {
      "text/plain": [
       "array([[ 5,  7,  9, 11, 13],\n",
       "       [15, 17, 19, 21, 23],\n",
       "       [25, 27, 29, 31, 33]])"
      ]
     },
     "execution_count": 8,
     "metadata": {},
     "output_type": "execute_result"
    }
   ],
   "source": [
    "a*2 + 5"
   ]
  },
  {
   "cell_type": "markdown",
   "metadata": {
    "collapsed": true,
    "slideshow": {
     "slide_type": "slide"
    }
   },
   "source": [
    "## matplotlib\n",
    "\n",
    "* matplotlib is the standard plotting package (although many alternates exist)\n",
    "* produces publication quality output\n",
    "* many plot styles (line, surface, pseudocolor / heat maps, 3-d axes, charts, histograms, ...)\n",
    "* works together with the standard libraries to allow for easy visualization"
   ]
  },
  {
   "cell_type": "code",
   "execution_count": 9,
   "metadata": {
    "collapsed": false,
    "slideshow": {
     "slide_type": "skip"
    }
   },
   "outputs": [],
   "source": [
    "%matplotlib inline\n"
   ]
  },
  {
   "cell_type": "code",
   "execution_count": 10,
   "metadata": {
    "collapsed": false,
    "slideshow": {
     "slide_type": "slide"
    }
   },
   "outputs": [
    {
     "data": {
      "text/plain": [
       "[<matplotlib.lines.Line2D at 0x7f3fe113e450>]"
      ]
     },
     "execution_count": 10,
     "metadata": {},
     "output_type": "execute_result"
    },
    {
     "data": {
      "image/png": "[encoded data removed]",
      "text/plain": [
       "<matplotlib.figure.Figure at 0x7f3fe145bed0>"
      ]
     },
     "metadata": {},
     "output_type": "display_data"
    }
   ],
   "source": [
    "import matplotlib.pyplot as plt\n",
    "\n",
    "x = np.linspace(-10.0, 10.0, 500)\n",
    "plt.plot(x, x*np.sin(x))"
   ]
  },
  {
   "cell_type": "markdown",
   "metadata": {
    "slideshow": {
     "slide_type": "slide"
    }
   },
   "source": [
    "best resource: the matplotlib gallery\n",
    "\n",
    "http://matplotlib.org/gallery.html\n",
    "\n",
    "I've made a number of animations using python, NumPy, and matplotlib:\n",
    "\n",
    "http://zingale.github.io/astro_animations/"
   ]
  },
  {
   "cell_type": "markdown",
   "metadata": {
    "slideshow": {
     "slide_type": "slide"
    }
   },
   "source": [
    "## SciPy\n",
    "\n",
    "Provides numerical algorithms for:\n",
    "* integration\n",
    "* signal processing (FFTs, etc.)\n",
    "* interpolation\n",
    "* linear algebra\n",
    "* ODE integration\n",
    "* optimization (including fitting and root finding)\n",
    "\n",
    "and more..."
   ]
  },
  {
   "cell_type": "markdown",
   "metadata": {
    "slideshow": {
     "slide_type": "slide"
    }
   },
   "source": [
    "## Ex: Integration\n",
    "\n",
    "$$\\int_{-\\infty}^{\\infty} e^{-x^2} dx$$"
   ]
  },
  {
   "cell_type": "code",
   "execution_count": 11,
   "metadata": {
    "collapsed": false
   },
   "outputs": [
    {
     "name": "stdout",
     "output_type": "stream",
     "text": [
      "1.77245385091 1.42026367809e-08\n"
     ]
    }
   ],
   "source": [
    "from scipy import integrate\n",
    "\n",
    "def f(x):\n",
    "    return np.exp(-x**2)\n",
    "\n",
    "I, err = integrate.quad(f, -np.inf, np.inf)\n",
    "print(I, err)"
   ]
  },
  {
   "cell_type": "markdown",
   "metadata": {
    "slideshow": {
     "slide_type": "slide"
    }
   },
   "source": [
    "## Ex: Fitting to Data\n",
    "\n",
    "minimize the square-summed distance between the curve and the data points"
   ]
  },
  {
   "cell_type": "code",
   "execution_count": 12,
   "metadata": {
    "collapsed": true,
    "slideshow": {
     "slide_type": "skip"
    }
   },
   "outputs": [],
   "source": [
    "a0 = 2.5\n",
    "a1 = 2./3.\n",
    "sigma = 2.0\n",
    "\n",
    "a0_orig, a1_orig = a0, a1\n",
    "\n",
    "x = np.linspace(0.0, 4.0, 25)\n",
    "y = a0*np.exp(a1*x) + sigma*np.random.randn(len(x))"
   ]
  },
  {
   "cell_type": "code",
   "execution_count": 13,
   "metadata": {
    "collapsed": false
   },
   "outputs": [
    {
     "data": {
      "text/plain": [
       "<Container object of 3 artists>"
      ]
     },
     "execution_count": 13,
     "metadata": {},
     "output_type": "execute_result"
    },
    {
     "data": {
      "image/png": "[encoded data removed]",
      "text/plain": [
       "<matplotlib.figure.Figure at 0x7f3fe11cfcd0>"
      ]
     },
     "metadata": {},
     "output_type": "display_data"
    }
   ],
   "source": [
    "plt.scatter(x,y)\n",
    "plt.errorbar(x, y, yerr=sigma, fmt=\"none\")"
   ]
  },
  {
   "cell_type": "markdown",
   "metadata": {
    "slideshow": {
     "slide_type": "slide"
    }
   },
   "source": [
    "## Fit this to an exponental"
   ]
  },
  {
   "cell_type": "code",
   "execution_count": 14,
   "metadata": {
    "collapsed": false
   },
   "outputs": [
    {
     "name": "stdout",
     "output_type": "stream",
     "text": [
      "[ 3.02318638  0.6099237 ]\n"
     ]
    }
   ],
   "source": [
    "import scipy.optimize as optimize\n",
    "\n",
    "def resid(avec, x, y):\n",
    "    \"\"\"the residual -- minimize the sum of the squares\"\"\"\n",
    "\n",
    "    a0, a1 = avec\n",
    "\n",
    "    # note: if we wanted to deal with error bars, we \n",
    "    # would weight each residual accordingly                                                                         \n",
    "    return y - a0*np.exp(a1*x)\n",
    "\n",
    "a0, a1 = 1, 1\n",
    "afit, flag = optimize.leastsq(resid, [a0, a1], args=(x, y))\n",
    "\n",
    "print(afit)"
   ]
  },
  {
   "cell_type": "code",
   "execution_count": 15,
   "metadata": {
    "collapsed": false,
    "slideshow": {
     "slide_type": "slide"
    }
   },
   "outputs": [
    {
     "data": {
      "text/plain": [
       "<Container object of 3 artists>"
      ]
     },
     "execution_count": 15,
     "metadata": {},
     "output_type": "execute_result"
    },
    {
     "data": {
      "image/png": "[encoded data removed]",
      "text/plain": [
       "<matplotlib.figure.Figure at 0x7f3fe1166cd0>"
      ]
     },
     "metadata": {},
     "output_type": "display_data"
    }
   ],
   "source": [
    "plt.plot(x, afit[0]*np.exp(afit[1]*x))\n",
    "plt.scatter(x,y, c=\"k\")\n",
    "plt.errorbar(x, y, yerr=sigma, fmt=\"none\")"
   ]
  },
  {
   "cell_type": "markdown",
   "metadata": {
    "collapsed": true,
    "slideshow": {
     "slide_type": "slide"
    }
   },
   "source": [
    "## SymPy\n",
    "\n",
    "SymPy does symbolic math"
   ]
  },
  {
   "cell_type": "code",
   "execution_count": 16,
   "metadata": {
    "collapsed": false,
    "slideshow": {
     "slide_type": "skip"
    }
   },
   "outputs": [
    {
     "name": "stdout",
     "output_type": "stream",
     "text": [
      "IPython console for SymPy 1.0 (Python 2.7.12-64-bit) (ground types: gmpy)\n",
      "\n",
      "These commands were executed:\n",
      ">>> from __future__ import division\n",
      ">>> from sympy import *\n",
      ">>> x, y, z, t = symbols('x y z t')\n",
      ">>> k, m, n = symbols('k m n', integer=True)\n",
      ">>> f, g, h = symbols('f g h', cls=Function)\n",
      ">>> init_printing()\n",
      "\n",
      "Documentation can be found at http://docs.sympy.org/1.0/\n"
     ]
    }
   ],
   "source": [
    "from sympy import init_session\n",
    "init_session()"
   ]
  },
  {
   "cell_type": "code",
   "execution_count": 17,
   "metadata": {
    "collapsed": false
   },
   "outputs": [
    {
     "data": {
      "image/png": "[encoded data removed]",
      "text/latex": [
       "$$i \\sin{\\left (x \\right )} + \\cos{\\left (x \\right )}$$"
      ],
      "text/plain": [
       "ⅈ⋅sin(x) + cos(x)"
      ]
     },
     "execution_count": 17,
     "metadata": {},
     "output_type": "execute_result"
    }
   ],
   "source": [
    "a = cos(x) + I*sin(x)\n",
    "a"
   ]
  },
  {
   "cell_type": "code",
   "execution_count": 18,
   "metadata": {
    "collapsed": false
   },
   "outputs": [
    {
     "data": {
      "image/png": "[encoded data removed]",
      "text/latex": [
       "$$e^{i x}$$"
      ],
      "text/plain": [
       " ⅈ⋅x\n",
       "ℯ   "
      ]
     },
     "execution_count": 18,
     "metadata": {},
     "output_type": "execute_result"
    }
   ],
   "source": [
    "simplify(a)"
   ]
  },
  {
   "cell_type": "code",
   "execution_count": 19,
   "metadata": {
    "collapsed": false,
    "slideshow": {
     "slide_type": "slide"
    }
   },
   "outputs": [
    {
     "data": {
      "image/png": "[encoded data removed]",
      "text/latex": [
       "$$\\left \\{ 0 : 1, \\quad 3 : 2\\right \\}$$"
      ],
      "text/plain": [
       "{0: 1, 3: 2}"
      ]
     },
     "execution_count": 19,
     "metadata": {},
     "output_type": "execute_result"
    }
   ],
   "source": [
    "roots(x**3 - 6*x**2 + 9*x, x)"
   ]
  },
  {
   "cell_type": "code",
   "execution_count": 20,
   "metadata": {
    "collapsed": false
   },
   "outputs": [
    {
     "data": {
      "image/png": "[encoded data removed]",
      "text/latex": [
       "$$\\left\\{\\left ( \\frac{- b f + c e}{a e - b d}, \\quad \\frac{a f - c d}{a e - b d}\\right )\\right\\}$$"
      ],
      "text/plain": [
       "⎧⎛-b⋅f + c⋅e  a⋅f - c⋅d⎞⎫\n",
       "⎨⎜──────────, ─────────⎟⎬\n",
       "⎩⎝a⋅e - b⋅d   a⋅e - b⋅d⎠⎭"
      ]
     },
     "execution_count": 20,
     "metadata": {},
     "output_type": "execute_result"
    }
   ],
   "source": [
    "a, b, c, d, e, f = symbols('a, b, c, d, e, f')\n",
    "\n",
    "eqns = [a*x + b*y - c, d*x + e*y - f]\n",
    "linsolve(eqns, x, y)"
   ]
  },
  {
   "cell_type": "markdown",
   "metadata": {
    "collapsed": true,
    "slideshow": {
     "slide_type": "skip"
    }
   },
   "source": [
    "## pandas"
   ]
  },
  {
   "cell_type": "markdown",
   "metadata": {
    "slideshow": {
     "slide_type": "slide"
    }
   },
   "source": [
    "## How I Use Python\n",
    "\n",
    "* general scripting / automating tasks (e.g., backup, note/record keeping, job management)\n",
    "* prototyping new algorithms (e.g., pyro: https://github.com/zingale/pyro2)\n",
    "* visualization and analysis\n",
    "* sympy for linear algebra derivations (eigenvalues and eigenvectors)\n",
    "* build system automation"
   ]
  },
  {
   "cell_type": "markdown",
   "metadata": {
    "collapsed": true,
    "slideshow": {
     "slide_type": "slide"
    }
   },
   "source": [
    "## yt\n",
    "\n",
    "A library for visualizing volumetric data\n",
    "\n",
    "![wdmerger](wdmerger_08030_new.png)"
   ]
  },
  {
   "cell_type": "markdown",
   "metadata": {
    "collapsed": true,
    "slideshow": {
     "slide_type": "slide"
    }
   },
   "source": [
    "## Learning More\n",
    "\n",
    "* python tutorial\n",
    "* _Effective Computation in Physics_\n",
    "* install _anaconda python_ distribution and start playing around\n"
   ]
  },
  {
   "cell_type": "code",
   "execution_count": null,
   "metadata": {
    "collapsed": true
   },
   "outputs": [],
   "source": []
  },
  {
   "cell_type": "code",
   "execution_count": 21,
   "metadata": {
    "collapsed": false
   },
   "outputs": [
    {
     "data": {
      "image/png": "[encoded data removed]",
      "text/latex": [
       "$$2$$"
      ],
      "text/plain": [
       "2"
      ]
     },
     "execution_count": 21,
     "metadata": {},
     "output_type": "execute_result"
    }
   ],
   "source": [
    "1+1"
   ]
  },
  {
   "cell_type": "code",
   "execution_count": null,
   "metadata": {
    "collapsed": true
   },
   "outputs": [],
   "source": []
  }
 ],
 "metadata": {
  "celltoolbar": "Slideshow",
  "kernelspec": {
   "display_name": "Python 2",
   "language": "python",
   "name": "python2"
  },
  "language_info": {
   "codemirror_mode": {
    "name": "ipython",
    "version": 2
   },
   "file_extension": ".py",
   "mimetype": "text/x-python",
   "name": "python",
   "nbconvert_exporter": "python",
   "pygments_lexer": "ipython2",
   "version": "2.7.12"
  }
 },
 "nbformat": 4,
 "nbformat_minor": 0
}
