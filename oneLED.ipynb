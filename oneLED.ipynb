{
 "cells": [
  {
   "cell_type": "code",
   "execution_count": null,
   "metadata": {
    "collapsed": false
   },
   "outputs": [],
   "source": [
    "import pyfirmata\n",
    "from time import sleep\n",
    "\n",
    "def blinkLED (pin,message):\n",
    "    print message\n",
    "    #The following command write(1) sends a high signal to LED: it lights up for 1 sec.\n",
    "    board.digital[pin].write(1) \n",
    "    sleep(1)\n",
    "    #The following command write(0) sends a low signal to LED: it stays dark for 3 sec.\n",
    "    board.digital[pin].write(0)\n",
    "    sleep(3)\n",
    "\n",
    "#Associate port and board with pyFirmata    \n",
    "port = 'COM4'\n",
    "board = pyfirmata.Arduino(port)\n",
    "\n",
    "#Use iterator thread to avoid buffer overflow\n",
    "it = pyfirmata.util.Iterator(board)\n",
    "it.start()\n",
    "\n",
    "#Define pin\n",
    "redPin = 13\n",
    "\n",
    "#Perform Blink using custom function\n",
    "while True:\n",
    "    blinkLED (redPin, \"blinking!\")\n",
    "                \n",
    "#Release the board\n",
    "board.exit()\n",
    "s.close()"
   ]
  },
  {
   "cell_type": "code",
   "execution_count": null,
   "metadata": {
    "collapsed": true
   },
   "outputs": [],
   "source": []
  }
 ],
 "metadata": {
  "kernelspec": {
   "display_name": "Python 2",
   "language": "python",
   "name": "python2"
  },
  "language_info": {
   "codemirror_mode": {
    "name": "ipython",
    "version": 2
   },
   "file_extension": ".py",
   "mimetype": "text/x-python",
   "name": "python",
   "nbconvert_exporter": "python",
   "pygments_lexer": "ipython2",
   "version": "2.7.12"
  }
 },
 "nbformat": 4,
 "nbformat_minor": 0
}
