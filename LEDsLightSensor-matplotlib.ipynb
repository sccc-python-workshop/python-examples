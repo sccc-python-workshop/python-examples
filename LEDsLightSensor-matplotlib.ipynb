{
 "cells": [
  {
   "cell_type": "code",
   "execution_count": 1,
   "metadata": {
    "collapsed": true
   },
   "outputs": [],
   "source": [
    "from __future__ import print_function\n",
    "\n",
    "import pyfirmata\n",
    "import time"
   ]
  },
  {
   "cell_type": "code",
   "execution_count": 2,
   "metadata": {
    "collapsed": true
   },
   "outputs": [],
   "source": [
    "# we'll display our output in the notebook itself\n",
    "#%matplotlib inline"
   ]
  },
  {
   "cell_type": "code",
   "execution_count": 3,
   "metadata": {
    "collapsed": false
   },
   "outputs": [],
   "source": [
    "import matplotlib\n",
    "matplotlib.use(\"TkAgg\")\n",
    "import matplotlib.pyplot as plt"
   ]
  },
  {
   "cell_type": "code",
   "execution_count": 4,
   "metadata": {
    "collapsed": true
   },
   "outputs": [],
   "source": [
    "def blinkLED (pin,message):    \n",
    "    board.digital[pin].write(1)\n",
    "    time.sleep(0.5)\n",
    "    \n",
    "    board.digital[pin].write(0)\n",
    "    time.sleep(0.5)"
   ]
  },
  {
   "cell_type": "code",
   "execution_count": 5,
   "metadata": {
    "collapsed": false
   },
   "outputs": [],
   "source": [
    "# associate port and board with pyFirmata.  For Windows, this would be something \n",
    "# like \"COM4\".  For Linux, this would be something like \"/dev/ttyUSB0\". \n",
    "port = '/dev/ttyUSB1'\n",
    "#port = \"COM4\"\n",
    "\n",
    "board = pyfirmata.Arduino(port)\n",
    "\n",
    "# use iterator thread to avoid buffer overflow\n",
    "it = pyfirmata.util.Iterator(board)\n",
    "it.start()\n",
    "\n",
    "# define pins -- we use 3: one for the sensor (an analog pin) and two for LEDs \n",
    "# (digital pins)\n",
    "sensorPin = board.get_pin('a:0:i')\n",
    "redPin = 13\n",
    "greenPin = 12"
   ]
  },
  {
   "cell_type": "code",
   "execution_count": 6,
   "metadata": {
    "collapsed": false
   },
   "outputs": [
    {
     "name": "stderr",
     "output_type": "stream",
     "text": [
      "/usr/lib64/python2.7/site-packages/matplotlib/backend_bases.py:2437: MatplotlibDeprecationWarning: Using default event loop until function specific to this GUI is implemented\n",
      "  warnings.warn(str, mplDeprecation)\n"
     ]
    },
    {
     "ename": "KeyboardInterrupt",
     "evalue": "",
     "output_type": "error",
     "traceback": [
      "\u001b[0;31m---------------------------------------------------------------------------\u001b[0m",
      "\u001b[0;31mKeyboardInterrupt\u001b[0m                         Traceback (most recent call last)",
      "\u001b[0;32m<ipython-input-6-354db254de77>\u001b[0m in \u001b[0;36m<module>\u001b[0;34m()\u001b[0m\n\u001b[1;32m     21\u001b[0m     \u001b[0;32mif\u001b[0m \u001b[0mvalue\u001b[0m \u001b[0;34m<\u001b[0m \u001b[0;36m0.1\u001b[0m\u001b[0;34m:\u001b[0m\u001b[0;34m\u001b[0m\u001b[0m\n\u001b[1;32m     22\u001b[0m         \u001b[0;31m# perform Blink using custom function\u001b[0m\u001b[0;34m\u001b[0m\u001b[0;34m\u001b[0m\u001b[0m\n\u001b[0;32m---> 23\u001b[0;31m         \u001b[0mblinkLED\u001b[0m \u001b[0;34m(\u001b[0m\u001b[0mredPin\u001b[0m\u001b[0;34m,\u001b[0m \u001b[0;34m\"Too dark!\"\u001b[0m\u001b[0;34m)\u001b[0m\u001b[0;34m\u001b[0m\u001b[0m\n\u001b[0m\u001b[1;32m     24\u001b[0m \u001b[0;34m\u001b[0m\u001b[0m\n\u001b[1;32m     25\u001b[0m     \u001b[0;32melse\u001b[0m\u001b[0;34m:\u001b[0m\u001b[0;34m\u001b[0m\u001b[0m\n",
      "\u001b[0;32m<ipython-input-4-29151d294e18>\u001b[0m in \u001b[0;36mblinkLED\u001b[0;34m(pin, message)\u001b[0m\n\u001b[1;32m      4\u001b[0m \u001b[0;34m\u001b[0m\u001b[0m\n\u001b[1;32m      5\u001b[0m     \u001b[0mboard\u001b[0m\u001b[0;34m.\u001b[0m\u001b[0mdigital\u001b[0m\u001b[0;34m[\u001b[0m\u001b[0mpin\u001b[0m\u001b[0;34m]\u001b[0m\u001b[0;34m.\u001b[0m\u001b[0mwrite\u001b[0m\u001b[0;34m(\u001b[0m\u001b[0;36m0\u001b[0m\u001b[0;34m)\u001b[0m\u001b[0;34m\u001b[0m\u001b[0m\n\u001b[0;32m----> 6\u001b[0;31m     \u001b[0mtime\u001b[0m\u001b[0;34m.\u001b[0m\u001b[0msleep\u001b[0m\u001b[0;34m(\u001b[0m\u001b[0;36m0.5\u001b[0m\u001b[0;34m)\u001b[0m\u001b[0;34m\u001b[0m\u001b[0m\n\u001b[0m",
      "\u001b[0;31mKeyboardInterrupt\u001b[0m: "
     ]
    }
   ],
   "source": [
    "# main loop: check for Light Sensor input, blink the pin, and update the plot\n",
    "t = []\n",
    "signal = []\n",
    "\n",
    "t_start = time.time()\n",
    "\n",
    "window = 40.0\n",
    "\n",
    "plt.ion()\n",
    "\n",
    "while True:\n",
    "\n",
    "    t.append(time.time() - t_start)\n",
    "    value = sensorPin.read()\n",
    "    \n",
    "    signal.append(value)\n",
    "    \n",
    "    if value is None:\n",
    "        value = 0\n",
    "        \n",
    "    if value < 0.1:\n",
    "        # perform Blink using custom function\n",
    "        blinkLED (redPin, \"Too dark!\")\n",
    "\n",
    "    else:\n",
    "        # perform Blink using custom function\n",
    "        blinkLED (greenPin, \"OK, enough light...\")\n",
    "        \n",
    "    # plot the data -- here we set the color of the line to red (\"r\")\n",
    "    plt.plot(t, signal, color=\"r\")\n",
    "             \n",
    "    # we want to only show a segment of the data.  tmin is the minimum time and tmax is\n",
    "    # the maximum time \n",
    "    tmin = max(0, t[-1] - window)\n",
    "    tmax = tmin + window\n",
    "\n",
    "    # to tell matplotlib to use these new axis limits, we need to get an _axis object_, using\n",
    "    # the `gca()` function\n",
    "    ax = plt.gca()\n",
    "\n",
    "    # and we use the `set_xlim` method to update the limits of the axis\n",
    "    ax.set_xlim(tmin, tmax)\n",
    "\n",
    "    plt.draw()\n",
    "    plt.pause(0.001)\n",
    "    #plt.show()\n",
    "    \n",
    "    # these commands tell the notebook to show the updated figure -- `gcf()` gets the \"current figure\"\n",
    "    #display.display(plt.gcf())\n",
    "    #display.clear_output(wait=True) # plot the data -- here we set the color of the line to red (\"r\")\n",
    "\n",
    "    \n",
    "# release the board\n",
    "board.exit()\n",
    "s.close()"
   ]
  },
  {
   "cell_type": "code",
   "execution_count": null,
   "metadata": {
    "collapsed": true
   },
   "outputs": [],
   "source": []
  },
  {
   "cell_type": "code",
   "execution_count": null,
   "metadata": {
    "collapsed": true
   },
   "outputs": [],
   "source": []
  }
 ],
 "metadata": {
  "kernelspec": {
   "display_name": "Python 2",
   "language": "python",
   "name": "python2"
  },
  "language_info": {
   "codemirror_mode": {
    "name": "ipython",
    "version": 2
   },
   "file_extension": ".py",
   "mimetype": "text/x-python",
   "name": "python",
   "nbconvert_exporter": "python",
   "pygments_lexer": "ipython2",
   "version": "2.7.12"
  }
 },
 "nbformat": 4,
 "nbformat_minor": 0
}
