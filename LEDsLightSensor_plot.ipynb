{
 "cells": [
  {
   "cell_type": "code",
   "execution_count": 1,
   "metadata": {
    "collapsed": false
   },
   "outputs": [
    {
     "name": "stdout",
     "output_type": "stream",
     "text": [
      "[u'5zbj1kky30', u'e8elil92aa']\n"
     ]
    }
   ],
   "source": [
    "import pyfirmata\n",
    "from time import sleep\n",
    "import time\n",
    "import datetime\n",
    "import matplotlib.pyplot as plt\n",
    "import numpy as np\n",
    "import plotly\n",
    "import plotly.plotly as py\n",
    "import plotly.tools as tls\n",
    "import plotly.graph_objs as go\n",
    "\n",
    "def blinkLED (pin,message):\n",
    "    print message\n",
    "    board.digital[pin].write(1)\n",
    "    sleep(1)\n",
    "    board.digital[pin].write(0)\n",
    "    sleep(1)\n",
    "\n",
    "#Associate port and board with pyFirmata    \n",
    "port = 'COM4'\n",
    "board = pyfirmata.Arduino(port)\n",
    "\n",
    "#Use iterator thread to avoid buffer overflow\n",
    "it = pyfirmata.util.Iterator(board)\n",
    "it.start()\n",
    "\n",
    "#Define pins\n",
    "sensorPin = board.get_pin('a:0:i')\n",
    "redPin = 12\n",
    "greenPin = 13\n",
    "\n",
    "#Initializing plotly: it needs to be used online, with api_keys and stream_ids \n",
    "#To get those, you must open a free account at https://plot.ly/python/getting-started/ \n",
    "plotly.tools.set_credentials_file(username='denicolo', api_key='k82m4topzi', stream_ids=['5zbj1kky30','e8elil92aa'])\n",
    "stream_ids=tls.get_credentials_file()['stream_ids']\n",
    "print stream_ids\n"
   ]
  },
  {
   "cell_type": "code",
   "execution_count": 2,
   "metadata": {
    "collapsed": false,
    "scrolled": false
   },
   "outputs": [
    {
     "data": {
      "text/html": [
       "<iframe id=\"igraph\" scrolling=\"no\" style=\"border:none;\" seamless=\"seamless\" src=\"https://plot.ly/~denicolo/15.embed\" height=\"525px\" width=\"100%\"></iframe>"
      ],
      "text/plain": [
       "<plotly.tools.PlotlyDisplay object>"
      ]
     },
     "execution_count": 2,
     "metadata": {},
     "output_type": "execute_result"
    }
   ],
   "source": [
    "stream_id=stream_ids[0]\n",
    "my_stream=go.Stream(token=stream_id,maxpoints=60)\n",
    "my_trace=go.Scatter(x=[],y=[],mode='lines+markers',stream=my_stream)\n",
    "data=go.Data([my_trace])\n",
    "layout=go.Layout(title='Detection levels from Light Sensor')\n",
    "fig=go.Figure(data=data,layout=layout)\n",
    "py.iplot(fig)"
   ]
  },
  {
   "cell_type": "code",
   "execution_count": 3,
   "metadata": {
    "collapsed": true
   },
   "outputs": [],
   "source": [
    "s=py.Stream(stream_id)\n",
    "s.open()"
   ]
  },
  {
   "cell_type": "code",
   "execution_count": 4,
   "metadata": {
    "collapsed": false
   },
   "outputs": [
    {
     "name": "stdout",
     "output_type": "stream",
     "text": [
      "2016-08-16 17:54:19.401000 0.1838\n",
      "2016-08-16 17:54:20.406000 0.1779\n",
      "2016-08-16 17:54:21.409000 0.1779\n",
      "2016-08-16 17:54:22.411000 0.1779\n",
      "2016-08-16 17:54:23.413000 0.1779\n",
      "2016-08-16 17:54:24.417000 0.1789\n",
      "2016-08-16 17:54:25.419000 0.1789\n",
      "2016-08-16 17:54:26.421000 0.1769\n",
      "2016-08-16 17:54:27.424000 0.176\n",
      "2016-08-16 17:54:28.427000 0.174\n",
      "2016-08-16 17:54:29.430000 0.1652\n",
      "2016-08-16 17:54:30.432000 0.1085\n",
      "2016-08-16 17:54:31.434000 0.1672\n",
      "2016-08-16 17:54:32.437000 0.174\n",
      "2016-08-16 17:54:33.439000 0.1779\n",
      "2016-08-16 17:54:34.442000 0.1623\n",
      "2016-08-16 17:54:35.445000 0.1603\n",
      "2016-08-16 17:54:36.447000 0.1632\n",
      "2016-08-16 17:54:37.449000 0.1711\n",
      "2016-08-16 17:54:38.452000 0.1769\n",
      "2016-08-16 17:54:39.454000 0.1574\n",
      "2016-08-16 17:54:40.460000 0.1564\n",
      "2016-08-16 17:54:41.466000 0.173\n",
      "2016-08-16 17:54:42.473000 0.132\n",
      "2016-08-16 17:54:43.481000 0.1271\n",
      "2016-08-16 17:54:44.487000 0.1124\n",
      "2016-08-16 17:54:45.494000 0.1144\n",
      "2016-08-16 17:54:46.501000 0.1193\n",
      "2016-08-16 17:54:47.504000 0.1124\n",
      "2016-08-16 17:54:48.506000 0.0948\n",
      "2016-08-16 17:54:49.508000 0.1173\n",
      "2016-08-16 17:54:50.510000 0.1163\n",
      "2016-08-16 17:54:51.512000 0.175\n",
      "2016-08-16 17:54:52.515000 0.173\n",
      "2016-08-16 17:54:53.518000 0.175\n",
      "2016-08-16 17:54:54.520000 0.1202\n",
      "2016-08-16 17:54:55.523000 0.174\n",
      "2016-08-16 17:54:56.525000 0.175\n",
      "2016-08-16 17:54:57.528000 0.173\n",
      "2016-08-16 17:54:58.532000 0.173\n",
      "2016-08-16 17:54:59.534000 0.173\n",
      "2016-08-16 17:55:00.536000 0.1691\n",
      "2016-08-16 17:55:01.539000 0.1153\n",
      "2016-08-16 17:55:02.542000 0.1779\n",
      "2016-08-16 17:55:03.545000 0.1828\n",
      "2016-08-16 17:55:04.548000 0.1779\n",
      "2016-08-16 17:55:05.551000 0.1848\n",
      "2016-08-16 17:55:06.554000 0.1848\n",
      "2016-08-16 17:55:07.556000 0.1857\n",
      "2016-08-16 17:55:08.559000 0.1808\n",
      "2016-08-16 17:55:09.561000 0.2014\n",
      "2016-08-16 17:55:10.564000 0.1955\n",
      "2016-08-16 17:55:11.567000 0.1984\n",
      "2016-08-16 17:55:12.569000 0.2043\n",
      "2016-08-16 17:55:13.572000 0.2033\n",
      "2016-08-16 17:55:14.574000 0.2014\n",
      "2016-08-16 17:55:15.577000 0.2014\n",
      "2016-08-16 17:55:16.579000 0.1935\n",
      "2016-08-16 17:55:17.587000 0.1808\n",
      "2016-08-16 17:55:18.594000 0.1603\n",
      "2016-08-16 17:55:19.600000 0.1603\n",
      "2016-08-16 17:55:20.607000 0.1603\n",
      "2016-08-16 17:55:21.613000 0.1584\n",
      "2016-08-16 17:55:22.620000 0.1984\n",
      "2016-08-16 17:55:23.626000 0.1838\n",
      "2016-08-16 17:55:24.633000 0.0772\n",
      "2016-08-16 17:55:25.639000 0.0753\n",
      "2016-08-16 17:55:26.646000 0.0743\n",
      "2016-08-16 17:55:27.654000 0.0753\n",
      "2016-08-16 17:55:28.661000 0.1955\n",
      "2016-08-16 17:55:29.668000 0.1965\n",
      "2016-08-16 17:55:30.676000 0.1955\n",
      "2016-08-16 17:55:31.682000 0.1681\n",
      "2016-08-16 17:55:32.689000 0.0772\n",
      "2016-08-16 17:55:33.696000 0.0762\n",
      "2016-08-16 17:55:34.702000 0.0772\n",
      "2016-08-16 17:55:35.709000 0.1916\n",
      "2016-08-16 17:55:36.716000 0.1935\n",
      "2016-08-16 17:55:37.723000 0.1916\n",
      "2016-08-16 17:55:38.730000 0.1466\n",
      "2016-08-16 17:55:39.737000 0.0635\n",
      "2016-08-16 17:55:40.746000 0.0665\n",
      "2016-08-16 17:55:41.754000 0.0665\n",
      "2016-08-16 17:55:42.760000 0.1417\n",
      "2016-08-16 17:55:43.767000 0.1926\n",
      "2016-08-16 17:55:44.773000 0.1906\n",
      "2016-08-16 17:55:45.779000 0.1916\n",
      "2016-08-16 17:55:46.786000 0.1975\n",
      "2016-08-16 17:55:47.793000 0.1789\n",
      "2016-08-16 17:55:48.799000 0.1232\n",
      "2016-08-16 17:55:49.806000 0.1486\n",
      "2016-08-16 17:55:50.813000 0.1808\n",
      "2016-08-16 17:55:51.817000 0.1818\n",
      "2016-08-16 17:55:52.823000 0.1789\n",
      "2016-08-16 17:55:53.830000 0.1789\n",
      "2016-08-16 17:55:54.833000 0.1779\n",
      "2016-08-16 17:55:55.840000 0.176\n",
      "2016-08-16 17:55:56.847000 0.1632\n",
      "2016-08-16 17:55:57.849000 0.1701\n",
      "2016-08-16 17:55:58.856000 0.1691\n",
      "2016-08-16 17:55:59.863000 0.1593\n",
      "2016-08-16 17:56:00.865000 0.1711\n",
      "2016-08-16 17:56:01.869000 0.1711\n",
      "2016-08-16 17:56:02.872000 0.172\n",
      "2016-08-16 17:56:03.875000 0.1701\n",
      "2016-08-16 17:56:04.878000 0.1701\n",
      "2016-08-16 17:56:05.882000 0.1701\n",
      "2016-08-16 17:56:06.884000 0.1681\n",
      "2016-08-16 17:56:07.887000 0.1711\n",
      "2016-08-16 17:56:08.890000 0.1691\n",
      "2016-08-16 17:56:09.892000 0.1691\n"
     ]
    },
    {
     "ename": "KeyboardInterrupt",
     "evalue": "",
     "output_type": "error",
     "traceback": [
      "\u001b[1;31m---------------------------------------------------------------------------\u001b[0m",
      "\u001b[1;31mKeyboardInterrupt\u001b[0m                         Traceback (most recent call last)",
      "\u001b[1;32m<ipython-input-4-e4091efa7843>\u001b[0m in \u001b[0;36m<module>\u001b[1;34m()\u001b[0m\n\u001b[0;32m     11\u001b[0m     \u001b[1;32mprint\u001b[0m \u001b[0mT\u001b[0m\u001b[1;33m,\u001b[0m\u001b[0mvalue\u001b[0m\u001b[1;33m\u001b[0m\u001b[0m\n\u001b[0;32m     12\u001b[0m     \u001b[0ms\u001b[0m\u001b[1;33m.\u001b[0m\u001b[0mwrite\u001b[0m\u001b[1;33m(\u001b[0m\u001b[0mdict\u001b[0m\u001b[1;33m(\u001b[0m\u001b[0mx\u001b[0m\u001b[1;33m=\u001b[0m\u001b[0mT\u001b[0m\u001b[1;33m,\u001b[0m\u001b[0my\u001b[0m\u001b[1;33m=\u001b[0m\u001b[0mvalue\u001b[0m\u001b[1;33m)\u001b[0m\u001b[1;33m)\u001b[0m\u001b[1;33m\u001b[0m\u001b[0m\n\u001b[1;32m---> 13\u001b[1;33m     \u001b[0mtime\u001b[0m\u001b[1;33m.\u001b[0m\u001b[0msleep\u001b[0m\u001b[1;33m(\u001b[0m\u001b[1;36m1\u001b[0m\u001b[1;33m)\u001b[0m\u001b[1;33m\u001b[0m\u001b[0m\n\u001b[0m\u001b[0;32m     14\u001b[0m \u001b[1;33m\u001b[0m\u001b[0m\n\u001b[0;32m     15\u001b[0m \u001b[1;31m#    if value > 0.1:\u001b[0m\u001b[1;33m\u001b[0m\u001b[1;33m\u001b[0m\u001b[0m\n",
      "\u001b[1;31mKeyboardInterrupt\u001b[0m: "
     ]
    }
   ],
   "source": [
    "#Check for Light Sensor input\n",
    "while True:\n",
    "    \n",
    "    value = sensorPin.read()\n",
    "    T = datetime.datetime.now().strftime('%Y-%m-%d %H:%M:%S.%f')\n",
    "    \n",
    "    while value is None:\n",
    "        value=0\n",
    "        pass\n",
    "    \n",
    "    print T,value\n",
    "    s.write(dict(x=T,y=value))\n",
    "    time.sleep(1)\n",
    "    \n",
    "    if value > 0.1:\n",
    "        #Perform Blink using custom function\n",
    "        blinkLED (redPin, \"Too dark!\")\n",
    "\n",
    "    else:\n",
    "        #Perform Blink using custom function\n",
    "        blinkLED (greenPin, \"OK, enough light...\")\n",
    "    \n",
    "        \n",
    "        \n",
    "#Release the board\n",
    "board.exit()\n",
    "s.close()"
   ]
  },
  {
   "cell_type": "code",
   "execution_count": null,
   "metadata": {
    "collapsed": true
   },
   "outputs": [],
   "source": []
  }
 ],
 "metadata": {
  "kernelspec": {
   "display_name": "Python 2",
   "language": "python",
   "name": "python2"
  },
  "language_info": {
   "codemirror_mode": {
    "name": "ipython",
    "version": 2
   },
   "file_extension": ".py",
   "mimetype": "text/x-python",
   "name": "python",
   "nbconvert_exporter": "python",
   "pygments_lexer": "ipython2",
   "version": "2.7.12"
  }
 },
 "nbformat": 4,
 "nbformat_minor": 0
}
