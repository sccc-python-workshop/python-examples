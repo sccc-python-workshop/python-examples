{
 "cells": [
  {
   "cell_type": "code",
   "execution_count": null,
   "metadata": {
    "collapsed": false
   },
   "outputs": [],
   "source": [
    "import pyfirmata\n",
    "from time import sleep\n",
    "\n",
    "def blinkLED (pin,message):\n",
    "    print message\n",
    "    board.digital[pin].write(1)\n",
    "    sleep(0.5)\n",
    "    board.digital[pin].write(0)\n",
    "    sleep(0.5)\n",
    "\n",
    "#Associate port and board with pyFirmata    \n",
    "port = 'COM4'\n",
    "board = pyfirmata.Arduino(port)\n",
    "\n",
    "#Use iterator thread to avoid buffer overflow\n",
    "it = pyfirmata.util.Iterator(board)\n",
    "it.start()\n",
    "\n",
    "#Define pins\n",
    "sensorPin = board.get_pin('a:0:i')\n",
    "redPin = 13\n",
    "greenPin = 12\n",
    "\n",
    "#Check for Light Sensor input\n",
    "while True:\n",
    "    \n",
    "    value = sensorPin.read()\n",
    "     \n",
    "    while value is None:\n",
    "        value=0\n",
    "        pass\n",
    "    \n",
    "    print value\n",
    "    \n",
    "    if value < 0.1:\n",
    "        #Perform Blink using custom function\n",
    "        blinkLED (redPin, \"Too dark!\")\n",
    "\n",
    "    else:\n",
    "        #Perform Blink using custom function\n",
    "        blinkLED (greenPin, \"OK, enough light...\")\n",
    "    \n",
    "        \n",
    "        \n",
    "#Release the board\n",
    "board.exit()\n",
    "s.close()"
   ]
  },
  {
   "cell_type": "code",
   "execution_count": null,
   "metadata": {
    "collapsed": true
   },
   "outputs": [],
   "source": []
  }
 ],
 "metadata": {
  "kernelspec": {
   "display_name": "Python 2",
   "language": "python",
   "name": "python2"
  },
  "language_info": {
   "codemirror_mode": {
    "name": "ipython",
    "version": 2
   },
   "file_extension": ".py",
   "mimetype": "text/x-python",
   "name": "python",
   "nbconvert_exporter": "python",
   "pygments_lexer": "ipython2",
   "version": "2.7.12"
  }
 },
 "nbformat": 4,
 "nbformat_minor": 0
}
